{
 "cells": [
  {
   "cell_type": "code",
   "execution_count": 1,
   "metadata": {},
   "outputs": [],
   "source": [
    "%load_ext autoreload\n",
    "%autoreload 2\n",
    "\n",
    "import logging\n",
    "\n",
    "logging.basicConfig(level=logging.INFO)\n",
    "\n",
    "from hhd.controller.lib.hid import enumerate_unique\n",
    "from hhd.controller.physical.hidraw import GenericGamepadHidraw, AM, BM\n",
    "\n",
    "# enumerate_unique()"
   ]
  },
  {
   "cell_type": "code",
   "execution_count": 2,
   "metadata": {},
   "outputs": [
    {
     "name": "stdout",
     "output_type": "stream",
     "text": [
      "path: b'/dev/hidraw3'\n",
      "vendor_id: 0x17ef\n",
      "product_id: 0x6182\n",
      "serial_number: '32869681'\n",
      "release_number: 0x0100\n",
      "manufacturer_string: ' '\n",
      "product_string: 'Legion Controller for Windows '\n",
      "usage_page: 0xffa0\n",
      "usage: 0x0001\n",
      "interface_number: 0x0002\n",
      "\n"
     ]
    }
   ],
   "source": [
    "from hhd.controller.physical.hidraw import pretty_print\n",
    "\n",
    "print(pretty_print(enumerate_unique()[3]))"
   ]
  },
  {
   "cell_type": "code",
   "execution_count": 3,
   "metadata": {},
   "outputs": [],
   "source": [
    "v = GenericGamepadHidraw(\n",
    "    vid=[0x17EF],\n",
    "    pid=[\n",
    "        0x6181,\n",
    "        0x6182,\n",
    "        0x6183,\n",
    "        0x6184,\n",
    "    ],\n",
    "    usage_page=[0xffa0],\n",
    "    usage=[0x0001]\n",
    ")"
   ]
  },
  {
   "cell_type": "code",
   "execution_count": 4,
   "metadata": {},
   "outputs": [
    {
     "name": "stderr",
     "output_type": "stream",
     "text": [
      "INFO:hhd.controller.physical.hidraw:Found device 0x17ef:0x6182:\n",
      "' ': 'Legion Controller for Windows ' at b'/dev/hidraw3'\n"
     ]
    },
    {
     "data": {
      "text/plain": [
       "[67]"
      ]
     },
     "execution_count": 4,
     "metadata": {},
     "output_type": "execute_result"
    }
   ],
   "source": [
    "v.open()"
   ]
  },
  {
   "cell_type": "code",
   "execution_count": null,
   "metadata": {},
   "outputs": [],
   "source": []
  }
 ],
 "metadata": {
  "kernelspec": {
   "display_name": "venv",
   "language": "python",
   "name": "python3"
  },
  "language_info": {
   "codemirror_mode": {
    "name": "ipython",
    "version": 3
   },
   "file_extension": ".py",
   "mimetype": "text/x-python",
   "name": "python",
   "nbconvert_exporter": "python",
   "pygments_lexer": "ipython3",
   "version": "3.11.6"
  }
 },
 "nbformat": 4,
 "nbformat_minor": 2
}
